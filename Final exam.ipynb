{
 "cells": [
  {
   "cell_type": "code",
   "execution_count": 1,
   "id": "243a5822",
   "metadata": {},
   "outputs": [
    {
     "name": "stdout",
     "output_type": "stream",
     "text": [
      "bird flying\n",
      "Crow cawing\n"
     ]
    }
   ],
   "source": [
    "#Q1 (A)\n",
    "class Bird:\n",
    "    def fly(self):\n",
    "        print(\"bird flying\")\n",
    "class Crow(Bird):\n",
    "    def cawing(self):\n",
    "        print(\"Crow cawing\")\n",
    "a = Crow()\n",
    "a.fly()\n",
    "a.cawing()\n",
    "print(\"Done\")"
   ]
  },
  {
   "cell_type": "code",
   "execution_count": 10,
   "id": "fb8f0078",
   "metadata": {},
   "outputs": [
    {
     "name": "stdout",
     "output_type": "stream",
     "text": [
      "Rajvi\n",
      "19\n",
      "True\n"
     ]
    }
   ],
   "source": [
    "#Q1 (B)\n",
    "class Student:  \n",
    "    def __init__(self, name, age, stream):  \n",
    "        self.name = name  \n",
    "        self.age = age  \n",
    "        self.stream = stream  \n",
    "      \n",
    "\n",
    "s1 = Student(\"Rajvi\", 18, \"Fintech\")  \n",
    "\n",
    "\n",
    "print(getattr(s1, \"name\"))  \n",
    "setattr(s1, \"age\", 19)  \n",
    "print(getattr(s1, \"age\"))  \n",
    "print(hasattr(s1, \"age\"))  \n",
    " \n",
    "\n",
    "    "
   ]
  },
  {
   "cell_type": "code",
   "execution_count": 2,
   "id": "74036894",
   "metadata": {},
   "outputs": [
    {
     "name": "stdout",
     "output_type": "stream",
     "text": [
      "Animals\n",
      "Dog\n",
      "Puppy\n"
     ]
    }
   ],
   "source": [
    "#Q1 (C)\n",
    "class Animals:\n",
    "    def display1(self):\n",
    "        print(\"Animals\")\n",
    "class Dog(Animals):\n",
    "    def display2(self):\n",
    "        print(\"Dog\")\n",
    "class Puppy(Dog):\n",
    "    def display3(self):\n",
    "        print(\"Puppy\")\n",
    "b = Puppy()\n",
    "b.display1()\n",
    "b.display2()\n",
    "b.display3()\n"
   ]
  },
  {
   "cell_type": "code",
   "execution_count": 11,
   "id": "9034a525",
   "metadata": {},
   "outputs": [
    {
     "name": "stdout",
     "output_type": "stream",
     "text": [
      "Number of employees: 3\n"
     ]
    }
   ],
   "source": [
    "#Q1 (D)\n",
    "class Employee:\n",
    "    count = 0\n",
    "    def __init__ (self):\n",
    "        Employee.count = Employee.count + 1\n",
    "        \n",
    "e1 = Employee()\n",
    "e2 = Employee()\n",
    "e3 = Employee()\n",
    "print(\"Number of employees:\", Employee.count)"
   ]
  },
  {
   "cell_type": "code",
   "execution_count": 19,
   "id": "4009d196",
   "metadata": {},
   "outputs": [
    {
     "name": "stdout",
     "output_type": "stream",
     "text": [
      "rajvi 19 fintech 44\n"
     ]
    }
   ],
   "source": [
    "\n",
    "#Q1 (E)\n",
    "class Student:\n",
    "    def __init__ (self, name, age, stream, roll_no):\n",
    "        self.name = name\n",
    "        self.age = age\n",
    "        self.stream = stream\n",
    "        self.roll_no = roll_no\n",
    "    def display(self):\n",
    "        print(self.name, self.age,self.stream,self.roll_no)\n",
    "stu = Student(\"rajvi\",19,\"fintech\",44)\n",
    "stu.display()"
   ]
  },
  {
   "cell_type": "code",
   "execution_count": null,
   "id": "42ceab24",
   "metadata": {},
   "outputs": [],
   "source": [
    "#Q2 (A)\n",
    "https://panchal44.odoo.com/"
   ]
  },
  {
   "cell_type": "code",
   "execution_count": 20,
   "id": "248cd297",
   "metadata": {},
   "outputs": [],
   "source": [
    "#Q2 (C)\n",
    "from tkinter import *\n",
    "import tkinter as tk\n",
    "from functools import partial\n",
    "import tkinter.messagebox\n",
    "def name():\n",
    "    tkinter.messagebox.showinfo(\"box\",\"\")\n",
    "    call_value=partial(name,bname,ltype,lamt,bankn1,loant1,loanam1)\n",
    "top = Tk()\n",
    "top.geometry(\"400x400\")\n",
    "bankn1 = tk.StringVar()\n",
    "loant1 = tk.StringVar()\n",
    "loanam1 = tk.StringVar()\n",
    "bname=Label(top, text=\"Bank name\").place(x=30,y=50)\n",
    "ltype=Label(top,text=\"Loan type\").place(x=30,y=90)\n",
    "lamt=Label(top,text=\"Loan amount\").place(x=30,y=130)\n",
    "e1 = Entry(top,textvariable = bankn1).place(x=120, y=50)\n",
    "e2 = Entry(top, textvariable = loant1).place(x=120, y=90)\n",
    "e3=Entry(top, textvariable=loanam1).place(x=120,y=130)\n",
    "\n",
    "submitbtn=Button(top,text=\"submit\",command=name).place(x=30,y=200)\n",
    "top.mainloop()\n",
    "\n"
   ]
  },
  {
   "cell_type": "code",
   "execution_count": null,
   "id": "ba5aa0d1",
   "metadata": {},
   "outputs": [],
   "source": [
    "#Q2(D)\n",
    "Mysql\n",
    "mydb = mysql.connector.connect(\n",
    "  host=\"localhost\",\n",
    "  user=\"root\",\n",
    "  password=\"Admin@123\",\n",
    "  database=\"Smartphone\"  \n",
    ")\n",
    "\n",
    "mycursor = mydb.cursor()\n",
    "mycursor.execute(\"create  table Mobile (Model_id varchar(50), Model_name varchar(50), Company_name varchar(50), price varchar(50)\")\n",
    "\n",
    "for x in mycursor:\n",
    "     print(x)\n"
   ]
  },
  {
   "cell_type": "code",
   "execution_count": null,
   "id": "a5ed05d3",
   "metadata": {},
   "outputs": [],
   "source": [
    "#Q2(D)\n",
    "mydb = mysql.connector.connect(\n",
    "  host=\"localhost\",\n",
    "  user=\"root\",\n",
    "  password=\"Admin@123\",\n",
    "  database=\"Smartphone\"  \n",
    ")\n",
    "\n",
    "\n",
    "mycursor = mydb.cursor()\n",
    "\n",
    "\n",
    "sql = \"insert into Mobile (Model_id,Model_name,Company_name,price) Values (%s, %s,%s,%s)\"\n",
    "val = [\n",
    "  (\"101\",\"galaxy S series\",\"Samsung\",\"30000\"),\n",
    "  (\"102\",\"One plus Nord\",\"One plus\",\"15000\")\n",
    " \n",
    "]\n",
    "\n",
    "\n",
    "mycursor.executemany(sql, val)\n",
    "\n",
    "mydb.commit()\n",
    "print(mycursor.rowcount, \" Data was inserted.\")\n"
   ]
  },
  {
   "cell_type": "code",
   "execution_count": null,
   "id": "0d4c8677",
   "metadata": {},
   "outputs": [],
   "source": [
    "#Q2(D)\n",
    "import mysql.connector\n",
    "mydb = mysql.connector.connect(\n",
    "  host=\"localhost\",\n",
    "  user=\"root\",\n",
    "  password=\"Admin@123\",\n",
    "  database=\"Smartphone\"  \n",
    ")\n",
    "mycursor = mydb.cursor()\n",
    "\n",
    "\n",
    "mycursor.execute(\"select  * from Mobile\")\n",
    "\n",
    "myresult = mycursor.fetchall()\n",
    "\n",
    "\n",
    "for x in myresult:\n",
    "print(x)"
   ]
  }
 ],
 "metadata": {
  "kernelspec": {
   "display_name": "Python 3 (ipykernel)",
   "language": "python",
   "name": "python3"
  },
  "language_info": {
   "codemirror_mode": {
    "name": "ipython",
    "version": 3
   },
   "file_extension": ".py",
   "mimetype": "text/x-python",
   "name": "python",
   "nbconvert_exporter": "python",
   "pygments_lexer": "ipython3",
   "version": "3.9.12"
  }
 },
 "nbformat": 4,
 "nbformat_minor": 5
}
